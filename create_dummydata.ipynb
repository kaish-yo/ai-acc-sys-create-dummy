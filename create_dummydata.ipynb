{
 "cells": [
  {
   "cell_type": "code",
   "execution_count": 140,
   "metadata": {},
   "outputs": [],
   "source": [
    "import polars as pl\n",
    "import random\n",
    "import uuid\n",
    "import datetime\n",
    "# from IPython.display import display, clear_output"
   ]
  },
  {
   "cell_type": "markdown",
   "metadata": {},
   "source": [
    "# Read the base data"
   ]
  },
  {
   "cell_type": "code",
   "execution_count": 66,
   "metadata": {},
   "outputs": [],
   "source": [
    "pat_df = pl.read_excel('ai-acc-sys-dummy-data.xlsx',sheet_name='JE_patterns')"
   ]
  },
  {
   "cell_type": "code",
   "execution_count": 67,
   "metadata": {},
   "outputs": [
    {
     "data": {
      "text/html": [
       "<div><style>\n",
       ".dataframe > thead > tr > th,\n",
       ".dataframe > tbody > tr > td {\n",
       "  text-align: right;\n",
       "}\n",
       "</style>\n",
       "<small>shape: (5, 8)</small><table border=\"1\" class=\"dataframe\"><thead><tr><th>Pattern</th><th>Dr_id</th><th>Dr_name</th><th>Cr_id</th><th>Cr_name</th><th>件数</th><th>金額係数</th><th>PL_大カテゴリ</th></tr><tr><td>i64</td><td>i64</td><td>str</td><td>i64</td><td>str</td><td>i64</td><td>f64</td><td>str</td></tr></thead><tbody><tr><td>1</td><td>11000</td><td>&quot;売掛金&quot;</td><td>61000</td><td>&quot;売上&quot;</td><td>500</td><td>1.0</td><td>&quot;売上&quot;</td></tr><tr><td>2</td><td>12000</td><td>&quot;棚卸資産&quot;</td><td>21000</td><td>&quot;買掛金&quot;</td><td>500</td><td>0.5</td><td>&quot;売上原価&quot;</td></tr><tr><td>3</td><td>51000</td><td>&quot;売上原価&quot;</td><td>12000</td><td>&quot;棚卸資産&quot;</td><td>500</td><td>0.5</td><td>&quot;売上原価&quot;</td></tr><tr><td>4</td><td>14000</td><td>&quot;現金預金&quot;</td><td>11000</td><td>&quot;売掛金&quot;</td><td>50</td><td>2.0</td><td>&quot;N/A&quot;</td></tr><tr><td>5</td><td>21000</td><td>&quot;買掛金&quot;</td><td>14000</td><td>&quot;現金預金&quot;</td><td>50</td><td>1.0</td><td>&quot;N/A&quot;</td></tr></tbody></table></div>"
      ],
      "text/plain": [
       "shape: (5, 8)\n",
       "┌─────────┬───────┬──────────┬───────┬──────────┬──────┬────────────┬───────────────┐\n",
       "│ Pattern ┆ Dr_id ┆ Dr_name  ┆ Cr_id ┆ Cr_name  ┆ 件数 ┆ 金額係数   ┆ PL_大カテゴリ │\n",
       "│ ---     ┆ ---   ┆ ---      ┆ ---   ┆ ---      ┆ ---  ┆ ---        ┆ ---           │\n",
       "│ i64     ┆ i64   ┆ str      ┆ i64   ┆ str      ┆ i64  ┆ f64        ┆ str           │\n",
       "╞═════════╪═══════╪══════════╪═══════╪══════════╪══════╪════════════╪═══════════════╡\n",
       "│ 1       ┆ 11000 ┆ 売掛金   ┆ 61000 ┆ 売上     ┆ 500  ┆ 1.0        ┆ 売上          │\n",
       "│ 2       ┆ 12000 ┆ 棚卸資産 ┆ 21000 ┆ 買掛金   ┆ 500  ┆ 0.5        ┆ 売上原価      │\n",
       "│ 3       ┆ 51000 ┆ 売上原価 ┆ 12000 ┆ 棚卸資産 ┆ 500  ┆ 0.5        ┆ 売上原価      │\n",
       "│ 4       ┆ 14000 ┆ 現金預金 ┆ 11000 ┆ 売掛金   ┆ 50   ┆ 2.0        ┆ N/A           │\n",
       "│ 5       ┆ 21000 ┆ 買掛金   ┆ 14000 ┆ 現金預金 ┆ 50   ┆ 1.0        ┆ N/A           │\n",
       "└─────────┴───────┴──────────┴───────┴──────────┴──────┴────────────┴───────────────┘"
      ]
     },
     "execution_count": 67,
     "metadata": {},
     "output_type": "execute_result"
    }
   ],
   "source": [
    "pat_df.head()"
   ]
  },
  {
   "cell_type": "code",
   "execution_count": 68,
   "metadata": {},
   "outputs": [
    {
     "data": {
      "text/html": [
       "<div><style>\n",
       ".dataframe > thead > tr > th,\n",
       ".dataframe > tbody > tr > td {\n",
       "  text-align: right;\n",
       "}\n",
       "</style>\n",
       "<small>shape: (9, 9)</small><table border=\"1\" class=\"dataframe\"><thead><tr><th>describe</th><th>Pattern</th><th>Dr_id</th><th>Dr_name</th><th>Cr_id</th><th>Cr_name</th><th>件数</th><th>金額係数</th><th>PL_大カテゴリ</th></tr><tr><td>str</td><td>f64</td><td>f64</td><td>str</td><td>f64</td><td>str</td><td>f64</td><td>f64</td><td>str</td></tr></thead><tbody><tr><td>&quot;count&quot;</td><td>40.0</td><td>40.0</td><td>&quot;40&quot;</td><td>40.0</td><td>&quot;40&quot;</td><td>40.0</td><td>40.0</td><td>&quot;40&quot;</td></tr><tr><td>&quot;null_count&quot;</td><td>0.0</td><td>0.0</td><td>&quot;0&quot;</td><td>0.0</td><td>&quot;0&quot;</td><td>0.0</td><td>0.0</td><td>&quot;0&quot;</td></tr><tr><td>&quot;mean&quot;</td><td>20.5</td><td>42860.3</td><td>null</td><td>27025.375</td><td>null</td><td>44.5</td><td>0.43</td><td>null</td></tr><tr><td>&quot;std&quot;</td><td>11.690452</td><td>16085.224233</td><td>null</td><td>15074.19624</td><td>null</td><td>131.728158</td><td>0.397557</td><td>null</td></tr><tr><td>&quot;min&quot;</td><td>1.0</td><td>11000.0</td><td>&quot;リース料&quot;</td><td>11000.0</td><td>&quot;受取利息&quot;</td><td>5.0</td><td>0.3</td><td>&quot;N/A&quot;</td></tr><tr><td>&quot;max&quot;</td><td>40.0</td><td>52028.0</td><td>&quot;雑給&quot;</td><td>62005.0</td><td>&quot;買掛金&quot;</td><td>500.0</td><td>2.0</td><td>&quot;販管費&quot;</td></tr><tr><td>&quot;median&quot;</td><td>20.5</td><td>52008.5</td><td>null</td><td>22000.0</td><td>null</td><td>5.0</td><td>0.3</td><td>null</td></tr><tr><td>&quot;25%&quot;</td><td>11.0</td><td>51000.0</td><td>null</td><td>22000.0</td><td>null</td><td>5.0</td><td>0.3</td><td>null</td></tr><tr><td>&quot;75%&quot;</td><td>31.0</td><td>52019.0</td><td>null</td><td>22000.0</td><td>null</td><td>5.0</td><td>0.3</td><td>null</td></tr></tbody></table></div>"
      ],
      "text/plain": [
       "shape: (9, 9)\n",
       "┌───────────┬───────────┬───────────┬──────────┬───┬──────────┬──────────┬────────────┬────────────┐\n",
       "│ describe  ┆ Pattern   ┆ Dr_id     ┆ Dr_name  ┆ … ┆ Cr_name  ┆ 件数     ┆ 金額係数   ┆ PL_大カテ  │\n",
       "│ ---       ┆ ---       ┆ ---       ┆ ---      ┆   ┆ ---      ┆ ---      ┆ ---        ┆ ゴリ       │\n",
       "│ str       ┆ f64       ┆ f64       ┆ str      ┆   ┆ str      ┆ f64      ┆ f64        ┆ ---        │\n",
       "│           ┆           ┆           ┆          ┆   ┆          ┆          ┆            ┆ str        │\n",
       "╞═══════════╪═══════════╪═══════════╪══════════╪═══╪══════════╪══════════╪════════════╪════════════╡\n",
       "│ count     ┆ 40.0      ┆ 40.0      ┆ 40       ┆ … ┆ 40       ┆ 40.0     ┆ 40.0       ┆ 40         │\n",
       "│ null_coun ┆ 0.0       ┆ 0.0       ┆ 0        ┆ … ┆ 0        ┆ 0.0      ┆ 0.0        ┆ 0          │\n",
       "│ t         ┆           ┆           ┆          ┆   ┆          ┆          ┆            ┆            │\n",
       "│ mean      ┆ 20.5      ┆ 42860.3   ┆ null     ┆ … ┆ null     ┆ 44.5     ┆ 0.43       ┆ null       │\n",
       "│ std       ┆ 11.690452 ┆ 16085.224 ┆ null     ┆ … ┆ null     ┆ 131.7281 ┆ 0.397557   ┆ null       │\n",
       "│           ┆           ┆ 233       ┆          ┆   ┆          ┆ 58       ┆            ┆            │\n",
       "│ min       ┆ 1.0       ┆ 11000.0   ┆ リース料 ┆ … ┆ 受取利息 ┆ 5.0      ┆ 0.3        ┆ N/A        │\n",
       "│ max       ┆ 40.0      ┆ 52028.0   ┆ 雑給     ┆ … ┆ 買掛金   ┆ 500.0    ┆ 2.0        ┆ 販管費     │\n",
       "│ median    ┆ 20.5      ┆ 52008.5   ┆ null     ┆ … ┆ null     ┆ 5.0      ┆ 0.3        ┆ null       │\n",
       "│ 25%       ┆ 11.0      ┆ 51000.0   ┆ null     ┆ … ┆ null     ┆ 5.0      ┆ 0.3        ┆ null       │\n",
       "│ 75%       ┆ 31.0      ┆ 52019.0   ┆ null     ┆ … ┆ null     ┆ 5.0      ┆ 0.3        ┆ null       │\n",
       "└───────────┴───────────┴───────────┴──────────┴───┴──────────┴──────────┴────────────┴────────────┘"
      ]
     },
     "execution_count": 68,
     "metadata": {},
     "output_type": "execute_result"
    }
   ],
   "source": [
    "pat_df.describe()"
   ]
  },
  {
   "cell_type": "code",
   "execution_count": 69,
   "metadata": {},
   "outputs": [],
   "source": [
    "# pat_df.with_columns(pl.col(['Dr_name','Cr_name','PL_大カテゴリ']).apply(lambda x: x.replace('\"',''))) # tried to remove double quotes but did not work. mayble this is just a renderting thing?"
   ]
  },
  {
   "cell_type": "code",
   "execution_count": 70,
   "metadata": {},
   "outputs": [
    {
     "data": {
      "text/html": [
       "<div><style>\n",
       ".dataframe > thead > tr > th,\n",
       ".dataframe > tbody > tr > td {\n",
       "  text-align: right;\n",
       "}\n",
       "</style>\n",
       "<small>shape: (5, 3)</small><table border=\"1\" class=\"dataframe\"><thead><tr><th>account_id</th><th>account_name</th><th>category</th></tr><tr><td>i64</td><td>str</td><td>str</td></tr></thead><tbody><tr><td>11000</td><td>&quot;売掛金&quot;</td><td>&quot;Asset&quot;</td></tr><tr><td>12000</td><td>&quot;棚卸資産&quot;</td><td>&quot;Asset&quot;</td></tr><tr><td>13000</td><td>&quot;仮払消費税&quot;</td><td>&quot;Asset&quot;</td></tr><tr><td>14000</td><td>&quot;現金預金&quot;</td><td>&quot;Asset&quot;</td></tr><tr><td>15000</td><td>&quot;未収収益&quot;</td><td>&quot;Asset&quot;</td></tr></tbody></table></div>"
      ],
      "text/plain": [
       "shape: (5, 3)\n",
       "┌────────────┬──────────────┬──────────┐\n",
       "│ account_id ┆ account_name ┆ category │\n",
       "│ ---        ┆ ---          ┆ ---      │\n",
       "│ i64        ┆ str          ┆ str      │\n",
       "╞════════════╪══════════════╪══════════╡\n",
       "│ 11000      ┆ 売掛金       ┆ Asset    │\n",
       "│ 12000      ┆ 棚卸資産     ┆ Asset    │\n",
       "│ 13000      ┆ 仮払消費税   ┆ Asset    │\n",
       "│ 14000      ┆ 現金預金     ┆ Asset    │\n",
       "│ 15000      ┆ 未収収益     ┆ Asset    │\n",
       "└────────────┴──────────────┴──────────┘"
      ]
     },
     "execution_count": 70,
     "metadata": {},
     "output_type": "execute_result"
    }
   ],
   "source": [
    "acc_df = pl.read_excel('ai-acc-sys-dummy-data.xlsx',sheet_name='Account_master')\n",
    "acc_df.head()"
   ]
  },
  {
   "cell_type": "code",
   "execution_count": 71,
   "metadata": {},
   "outputs": [],
   "source": [
    "emp_df = pl.read_excel('ai-acc-sys-dummy-data.xlsx',sheet_name='employee_master')"
   ]
  },
  {
   "cell_type": "code",
   "execution_count": 118,
   "metadata": {},
   "outputs": [
    {
     "data": {
      "text/html": [
       "<div><style>\n",
       ".dataframe > thead > tr > th,\n",
       ".dataframe > tbody > tr > td {\n",
       "  text-align: right;\n",
       "}\n",
       "</style>\n",
       "<small>shape: (5, 7)</small><table border=\"1\" class=\"dataframe\"><thead><tr><th>employee_id</th><th>employee_name</th><th>l</th><th>former_postion</th><th>join_date</th><th>department</th><th>Role</th></tr><tr><td>i64</td><td>str</td><td>str</td><td>str</td><td>str</td><td>str</td><td>str</td></tr></thead><tbody><tr><td>20230001</td><td>&quot;小倉 史郎&quot;</td><td>&quot;Chief Financia…</td><td>&quot;Controller&quot;</td><td>&quot;04-01-10&quot;</td><td>&quot;Accounting&quot;</td><td>&quot;Manager&quot;</td></tr><tr><td>20230002</td><td>&quot;幾田 宏美&quot;</td><td>&quot;Controller&quot;</td><td>&quot;Accounting Man…</td><td>&quot;12-01-15&quot;</td><td>&quot;Accounting&quot;</td><td>&quot;Approver&quot;</td></tr><tr><td>20230003</td><td>&quot;島田 幸司&quot;</td><td>&quot;Accounting Man…</td><td>&quot;Accountant&quot;</td><td>&quot;03-01-12&quot;</td><td>&quot;Accounting&quot;</td><td>&quot;Approver&quot;</td></tr><tr><td>20230004</td><td>&quot;木原 圭一&quot;</td><td>&quot;Accounting Man…</td><td>&quot;Accountant&quot;</td><td>&quot;05-01-13&quot;</td><td>&quot;Accounting&quot;</td><td>&quot;Approver&quot;</td></tr><tr><td>20230005</td><td>&quot;水尾 洋介&quot;</td><td>&quot;Accounting Man…</td><td>&quot;N/A&quot;</td><td>&quot;04-01-17&quot;</td><td>&quot;Accounting&quot;</td><td>&quot;Approver&quot;</td></tr></tbody></table></div>"
      ],
      "text/plain": [
       "shape: (5, 7)\n",
       "┌─────────────┬───────────────┬────────────┬────────────────┬───────────┬────────────┬──────────┐\n",
       "│ employee_id ┆ employee_name ┆ l          ┆ former_postion ┆ join_date ┆ department ┆ Role     │\n",
       "│ ---         ┆ ---           ┆ ---        ┆ ---            ┆ ---       ┆ ---        ┆ ---      │\n",
       "│ i64         ┆ str           ┆ str        ┆ str            ┆ str       ┆ str        ┆ str      │\n",
       "╞═════════════╪═══════════════╪════════════╪════════════════╪═══════════╪════════════╪══════════╡\n",
       "│ 20230001    ┆ 小倉 史郎     ┆ Chief      ┆ Controller     ┆ 04-01-10  ┆ Accounting ┆ Manager  │\n",
       "│             ┆               ┆ Financial  ┆                ┆           ┆            ┆          │\n",
       "│             ┆               ┆ Officer    ┆                ┆           ┆            ┆          │\n",
       "│ 20230002    ┆ 幾田 宏美     ┆ Controller ┆ Accounting     ┆ 12-01-15  ┆ Accounting ┆ Approver │\n",
       "│             ┆               ┆            ┆ Manager        ┆           ┆            ┆          │\n",
       "│ 20230003    ┆ 島田 幸司     ┆ Accounting ┆ Accountant     ┆ 03-01-12  ┆ Accounting ┆ Approver │\n",
       "│             ┆               ┆ Manager    ┆                ┆           ┆            ┆          │\n",
       "│ 20230004    ┆ 木原 圭一     ┆ Accounting ┆ Accountant     ┆ 05-01-13  ┆ Accounting ┆ Approver │\n",
       "│             ┆               ┆ Manager    ┆                ┆           ┆            ┆          │\n",
       "│ 20230005    ┆ 水尾 洋介     ┆ Accounting ┆ N/A            ┆ 04-01-17  ┆ Accounting ┆ Approver │\n",
       "│             ┆               ┆ Manager    ┆                ┆           ┆            ┆          │\n",
       "└─────────────┴───────────────┴────────────┴────────────────┴───────────┴────────────┴──────────┘"
      ]
     },
     "execution_count": 118,
     "metadata": {},
     "output_type": "execute_result"
    }
   ],
   "source": [
    "emp_df.head()"
   ]
  },
  {
   "cell_type": "code",
   "execution_count": 73,
   "metadata": {},
   "outputs": [],
   "source": [
    "# Define the logic of creating dummy data out of the dataframs above\n",
    "\n",
    "## Iterate over the patterns of the jounal entries for the number of times specified in \"件数\" column\n",
    "## The VAT(comsunption tax) is not considered. Maybe add it later on"
   ]
  },
  {
   "cell_type": "markdown",
   "metadata": {},
   "source": [
    "# Align the needed snippets of the dataframes"
   ]
  },
  {
   "cell_type": "code",
   "execution_count": 133,
   "metadata": {},
   "outputs": [
    {
     "name": "stdout",
     "output_type": "stream",
     "text": [
      "['小倉 史郎', '幾田 宏美', '島田 幸司', '木原 圭一', '水尾 洋介', '大西 明久', '小森 祥子', '宮脇 謙吾', '植松 昭仁', '齋藤 直子', '佐藤 弘樹', '白尾 弘美', '黒川 摩耶', '中原 彩', '近藤 賢治', '亀本 信子', '榎本 善幸', '片岡 瑛子', '岡 光二', '河村 大志']\n"
     ]
    }
   ],
   "source": [
    "emp_list = emp_df.select(pl.col('employee_name')).to_series().to_list() # selectからの型変換の方法チェック\n",
    "print(emp_list)"
   ]
  },
  {
   "cell_type": "code",
   "execution_count": 97,
   "metadata": {},
   "outputs": [
    {
     "data": {
      "text/plain": [
       "'小倉 史郎'"
      ]
     },
     "execution_count": 97,
     "metadata": {},
     "output_type": "execute_result"
    }
   ],
   "source": [
    "random.choice(emp_list)"
   ]
  },
  {
   "cell_type": "markdown",
   "metadata": {},
   "source": [
    "ふむふむ、なるほどね..."
   ]
  },
  {
   "cell_type": "code",
   "execution_count": 104,
   "metadata": {},
   "outputs": [
    {
     "data": {
      "text/html": [
       "<div><style>\n",
       ".dataframe > thead > tr > th,\n",
       ".dataframe > tbody > tr > td {\n",
       "  text-align: right;\n",
       "}\n",
       "</style>\n",
       "<small>shape: (3, 7)</small><table border=\"1\" class=\"dataframe\"><thead><tr><th>employee_id</th><th>employee_name</th><th>l</th><th>former_postion</th><th>join_date</th><th>department</th><th>Role</th></tr><tr><td>i64</td><td>str</td><td>str</td><td>str</td><td>str</td><td>str</td><td>str</td></tr></thead><tbody><tr><td>20230007</td><td>&quot;小森 祥子&quot;</td><td>&quot;Accountant&quot;</td><td>&quot;N/A&quot;</td><td>&quot;04-01-19&quot;</td><td>&quot;Accounting&quot;</td><td>&quot;Create&quot;</td></tr><tr><td>20230008</td><td>&quot;宮脇 謙吾&quot;</td><td>&quot;Accountant&quot;</td><td>&quot;N/A&quot;</td><td>&quot;04-01-22&quot;</td><td>&quot;Accounting&quot;</td><td>&quot;Create&quot;</td></tr><tr><td>20230009</td><td>&quot;植松 昭仁&quot;</td><td>&quot;Accountant&quot;</td><td>&quot;N/A&quot;</td><td>&quot;02-01-20&quot;</td><td>&quot;Accounting&quot;</td><td>&quot;Create&quot;</td></tr></tbody></table></div>"
      ],
      "text/plain": [
       "shape: (3, 7)\n",
       "┌─────────────┬───────────────┬────────────┬────────────────┬───────────┬────────────┬────────┐\n",
       "│ employee_id ┆ employee_name ┆ l          ┆ former_postion ┆ join_date ┆ department ┆ Role   │\n",
       "│ ---         ┆ ---           ┆ ---        ┆ ---            ┆ ---       ┆ ---        ┆ ---    │\n",
       "│ i64         ┆ str           ┆ str        ┆ str            ┆ str       ┆ str        ┆ str    │\n",
       "╞═════════════╪═══════════════╪════════════╪════════════════╪═══════════╪════════════╪════════╡\n",
       "│ 20230007    ┆ 小森 祥子     ┆ Accountant ┆ N/A            ┆ 04-01-19  ┆ Accounting ┆ Create │\n",
       "│ 20230008    ┆ 宮脇 謙吾     ┆ Accountant ┆ N/A            ┆ 04-01-22  ┆ Accounting ┆ Create │\n",
       "│ 20230009    ┆ 植松 昭仁     ┆ Accountant ┆ N/A            ┆ 02-01-20  ┆ Accounting ┆ Create │\n",
       "└─────────────┴───────────────┴────────────┴────────────────┴───────────┴────────────┴────────┘"
      ]
     },
     "execution_count": 104,
     "metadata": {},
     "output_type": "execute_result"
    }
   ],
   "source": [
    "creator_df = emp_df.filter(pl.col('Role')=='Create')\n",
    "creator_df.head(3)"
   ]
  },
  {
   "cell_type": "code",
   "execution_count": 105,
   "metadata": {},
   "outputs": [
    {
     "data": {
      "text/html": [
       "<div><style>\n",
       ".dataframe > thead > tr > th,\n",
       ".dataframe > tbody > tr > td {\n",
       "  text-align: right;\n",
       "}\n",
       "</style>\n",
       "<small>shape: (3, 7)</small><table border=\"1\" class=\"dataframe\"><thead><tr><th>employee_id</th><th>employee_name</th><th>l</th><th>former_postion</th><th>join_date</th><th>department</th><th>Role</th></tr><tr><td>i64</td><td>str</td><td>str</td><td>str</td><td>str</td><td>str</td><td>str</td></tr></thead><tbody><tr><td>20230002</td><td>&quot;幾田 宏美&quot;</td><td>&quot;Controller&quot;</td><td>&quot;Accounting Man…</td><td>&quot;12-01-15&quot;</td><td>&quot;Accounting&quot;</td><td>&quot;Approver&quot;</td></tr><tr><td>20230003</td><td>&quot;島田 幸司&quot;</td><td>&quot;Accounting Man…</td><td>&quot;Accountant&quot;</td><td>&quot;03-01-12&quot;</td><td>&quot;Accounting&quot;</td><td>&quot;Approver&quot;</td></tr><tr><td>20230004</td><td>&quot;木原 圭一&quot;</td><td>&quot;Accounting Man…</td><td>&quot;Accountant&quot;</td><td>&quot;05-01-13&quot;</td><td>&quot;Accounting&quot;</td><td>&quot;Approver&quot;</td></tr></tbody></table></div>"
      ],
      "text/plain": [
       "shape: (3, 7)\n",
       "┌─────────────┬───────────────┬────────────┬────────────────┬───────────┬────────────┬──────────┐\n",
       "│ employee_id ┆ employee_name ┆ l          ┆ former_postion ┆ join_date ┆ department ┆ Role     │\n",
       "│ ---         ┆ ---           ┆ ---        ┆ ---            ┆ ---       ┆ ---        ┆ ---      │\n",
       "│ i64         ┆ str           ┆ str        ┆ str            ┆ str       ┆ str        ┆ str      │\n",
       "╞═════════════╪═══════════════╪════════════╪════════════════╪═══════════╪════════════╪══════════╡\n",
       "│ 20230002    ┆ 幾田 宏美     ┆ Controller ┆ Accounting     ┆ 12-01-15  ┆ Accounting ┆ Approver │\n",
       "│             ┆               ┆            ┆ Manager        ┆           ┆            ┆          │\n",
       "│ 20230003    ┆ 島田 幸司     ┆ Accounting ┆ Accountant     ┆ 03-01-12  ┆ Accounting ┆ Approver │\n",
       "│             ┆               ┆ Manager    ┆                ┆           ┆            ┆          │\n",
       "│ 20230004    ┆ 木原 圭一     ┆ Accounting ┆ Accountant     ┆ 05-01-13  ┆ Accounting ┆ Approver │\n",
       "│             ┆               ┆ Manager    ┆                ┆           ┆            ┆          │\n",
       "└─────────────┴───────────────┴────────────┴────────────────┴───────────┴────────────┴──────────┘"
      ]
     },
     "execution_count": 105,
     "metadata": {},
     "output_type": "execute_result"
    }
   ],
   "source": [
    "approver_df = emp_df.filter(pl.col('Role')=='Approver')\n",
    "approver_df.head(3)"
   ]
  },
  {
   "cell_type": "code",
   "execution_count": 139,
   "metadata": {},
   "outputs": [
    {
     "name": "stdout",
     "output_type": "stream",
     "text": [
      "[20230007, 20230008, 20230009, 20230010, 20230011, 20230012, 20230013, 20230014, 20230015, 20230016, 20230017, 20230018, 20230019, 20230020]\n",
      "[20230002, 20230003, 20230004, 20230005, 20230006]\n"
     ]
    }
   ],
   "source": [
    "creator_ids = creator_df.select(pl.col('employee_id')).to_series().to_list()\n",
    "approver_ids = approver_df.select(pl.col('employee_id')).to_series().to_list()\n",
    "print(creator_ids)\n",
    "print(approver_ids)"
   ]
  },
  {
   "cell_type": "markdown",
   "metadata": {},
   "source": [
    "# Create dummy records by looping"
   ]
  },
  {
   "cell_type": "code",
   "execution_count": 94,
   "metadata": {},
   "outputs": [
    {
     "data": {
      "text/html": [
       "<div><style>\n",
       ".dataframe > thead > tr > th,\n",
       ".dataframe > tbody > tr > td {\n",
       "  text-align: right;\n",
       "}\n",
       "</style>\n",
       "<small>shape: (1, 8)</small><table border=\"1\" class=\"dataframe\"><thead><tr><th>Pattern</th><th>Dr_id</th><th>Dr_name</th><th>Cr_id</th><th>Cr_name</th><th>件数</th><th>金額係数</th><th>PL_大カテゴリ</th></tr><tr><td>i64</td><td>i64</td><td>str</td><td>i64</td><td>str</td><td>i64</td><td>f64</td><td>str</td></tr></thead><tbody><tr><td>1</td><td>11000</td><td>&quot;売掛金&quot;</td><td>61000</td><td>&quot;売上&quot;</td><td>500</td><td>1.0</td><td>&quot;売上&quot;</td></tr></tbody></table></div>"
      ],
      "text/plain": [
       "shape: (1, 8)\n",
       "┌─────────┬───────┬─────────┬───────┬─────────┬──────┬────────────┬───────────────┐\n",
       "│ Pattern ┆ Dr_id ┆ Dr_name ┆ Cr_id ┆ Cr_name ┆ 件数 ┆ 金額係数   ┆ PL_大カテゴリ │\n",
       "│ ---     ┆ ---   ┆ ---     ┆ ---   ┆ ---     ┆ ---  ┆ ---        ┆ ---           │\n",
       "│ i64     ┆ i64   ┆ str     ┆ i64   ┆ str     ┆ i64  ┆ f64        ┆ str           │\n",
       "╞═════════╪═══════╪═════════╪═══════╪═════════╪══════╪════════════╪═══════════════╡\n",
       "│ 1       ┆ 11000 ┆ 売掛金  ┆ 61000 ┆ 売上    ┆ 500  ┆ 1.0        ┆ 売上          │\n",
       "└─────────┴───────┴─────────┴───────┴─────────┴──────┴────────────┴───────────────┘"
      ]
     },
     "execution_count": 94,
     "metadata": {},
     "output_type": "execute_result"
    }
   ],
   "source": [
    "pat_df.head(1) # shemaのチェック用"
   ]
  },
  {
   "cell_type": "code",
   "execution_count": 163,
   "metadata": {},
   "outputs": [],
   "source": [
    "unit_amount = 1000\n",
    "record_id = 1\n",
    "gl_data = []\n",
    "\n",
    "for row in pat_df.iter_rows(named=True):\n",
    "    '''Fixed in both Dr. and Cr.'''\n",
    "    for i in range(row['件数']):\n",
    "        journal_id = str(uuid.uuid4())\n",
    "        creator_id = random.choice(creator_ids)\n",
    "        approver_id = random.choice(approver_ids)\n",
    "        create_date = datetime.datetime(year=2023,\n",
    "                                        month=random.choice(range(1,13)),\n",
    "                                        day=random.choice(range(1,25))\n",
    "                                       )\n",
    "        approve_date = create_date + datetime.timedelta(days=random.choice(range(0,6)))\n",
    "        vat_id = 0 # とりあえず全部課税取引にしておく。\n",
    "        amount = unit_amount * random.choice(range(1,20)) * (row['金額係数']*10) # 小数が発生した面倒なので金額係数はx10する。\n",
    "        for acc in ['Dr_id','Cr_id']:\n",
    "            '''Varied between Dr. and Cr.'''\n",
    "            record_id = record_id + 1\n",
    "            account_id = row[acc]\n",
    "            account_name = acc_df.filter(pl.col('account_id')==account_id) \\\n",
    "                                .select('account_name') \\\n",
    "                                .item()\n",
    "            subaccount_id = account_id # とりあえずAccount nameと同じにしておく\n",
    "            debter_creditor = 'Dr.' if acc == 'Dr_id' else 'Cr.'\n",
    "            amount = amount * (1 if acc == 'Dr_id' else -1) # change depending on dr/cr\n",
    "            # add the record to the GL list\n",
    "            gl_data.append({\n",
    "                            'record_id': record_id,\n",
    "                            'journal_id': journal_id,\n",
    "                            'account_id': account_id,\n",
    "                            'account_name': account_name,\n",
    "                            'subaccount_id': subaccount_id,\n",
    "                            'vat_id': vat_id,\n",
    "                            'debter_creditor': debter_creditor,\n",
    "                            'amount': amount,\n",
    "                            'creator': creator_id,\n",
    "                            'approver': approver_id,\n",
    "                            'create_date': create_date,\n",
    "                            'approve_date': approve_date\n",
    "                            })"
   ]
  },
  {
   "cell_type": "code",
   "execution_count": 165,
   "metadata": {},
   "outputs": [
    {
     "data": {
      "text/html": [
       "<div><style>\n",
       ".dataframe > thead > tr > th,\n",
       ".dataframe > tbody > tr > td {\n",
       "  text-align: right;\n",
       "}\n",
       "</style>\n",
       "<small>shape: (5, 12)</small><table border=\"1\" class=\"dataframe\"><thead><tr><th>record_id</th><th>journal_id</th><th>account_id</th><th>account_name</th><th>subaccount_id</th><th>vat_id</th><th>debter_creditor</th><th>amount</th><th>creator</th><th>approver</th><th>create_date</th><th>approve_date</th></tr><tr><td>i64</td><td>str</td><td>i64</td><td>str</td><td>i64</td><td>i64</td><td>str</td><td>f64</td><td>i64</td><td>i64</td><td>datetime[μs]</td><td>datetime[μs]</td></tr></thead><tbody><tr><td>2</td><td>&quot;5afbe1df-7274-…</td><td>11000</td><td>&quot;売掛金&quot;</td><td>11000</td><td>0</td><td>&quot;Dr.&quot;</td><td>30000.0</td><td>20230013</td><td>20230004</td><td>2023-04-19 00:00:00</td><td>2023-04-24 00:00:00</td></tr><tr><td>3</td><td>&quot;5afbe1df-7274-…</td><td>61000</td><td>&quot;売上&quot;</td><td>61000</td><td>0</td><td>&quot;Cr.&quot;</td><td>-30000.0</td><td>20230013</td><td>20230004</td><td>2023-04-19 00:00:00</td><td>2023-04-24 00:00:00</td></tr><tr><td>4</td><td>&quot;fe5a924d-8bb0-…</td><td>11000</td><td>&quot;売掛金&quot;</td><td>11000</td><td>0</td><td>&quot;Dr.&quot;</td><td>150000.0</td><td>20230017</td><td>20230005</td><td>2023-11-19 00:00:00</td><td>2023-11-24 00:00:00</td></tr><tr><td>5</td><td>&quot;fe5a924d-8bb0-…</td><td>61000</td><td>&quot;売上&quot;</td><td>61000</td><td>0</td><td>&quot;Cr.&quot;</td><td>-150000.0</td><td>20230017</td><td>20230005</td><td>2023-11-19 00:00:00</td><td>2023-11-24 00:00:00</td></tr><tr><td>6</td><td>&quot;2e6b2d85-189b-…</td><td>11000</td><td>&quot;売掛金&quot;</td><td>11000</td><td>0</td><td>&quot;Dr.&quot;</td><td>150000.0</td><td>20230009</td><td>20230003</td><td>2023-05-19 00:00:00</td><td>2023-05-22 00:00:00</td></tr></tbody></table></div>"
      ],
      "text/plain": [
       "shape: (5, 12)\n",
       "┌───────────┬──────────┬──────────┬────────────┬───┬──────────┬──────────┬───────────┬────────────┐\n",
       "│ record_id ┆ journal_ ┆ account_ ┆ account_na ┆ … ┆ creator  ┆ approver ┆ create_da ┆ approve_da │\n",
       "│ ---       ┆ id       ┆ id       ┆ me         ┆   ┆ ---      ┆ ---      ┆ te        ┆ te         │\n",
       "│ i64       ┆ ---      ┆ ---      ┆ ---        ┆   ┆ i64      ┆ i64      ┆ ---       ┆ ---        │\n",
       "│           ┆ str      ┆ i64      ┆ str        ┆   ┆          ┆          ┆ datetime[ ┆ datetime[μ │\n",
       "│           ┆          ┆          ┆            ┆   ┆          ┆          ┆ μs]       ┆ s]         │\n",
       "╞═══════════╪══════════╪══════════╪════════════╪═══╪══════════╪══════════╪═══════════╪════════════╡\n",
       "│ 2         ┆ 5afbe1df ┆ 11000    ┆ 売掛金     ┆ … ┆ 20230013 ┆ 20230004 ┆ 2023-04-1 ┆ 2023-04-24 │\n",
       "│           ┆ -7274-49 ┆          ┆            ┆   ┆          ┆          ┆ 9         ┆ 00:00:00   │\n",
       "│           ┆ ed-836e- ┆          ┆            ┆   ┆          ┆          ┆ 00:00:00  ┆            │\n",
       "│           ┆ 8e6bd618 ┆          ┆            ┆   ┆          ┆          ┆           ┆            │\n",
       "│           ┆ …        ┆          ┆            ┆   ┆          ┆          ┆           ┆            │\n",
       "│ 3         ┆ 5afbe1df ┆ 61000    ┆ 売上       ┆ … ┆ 20230013 ┆ 20230004 ┆ 2023-04-1 ┆ 2023-04-24 │\n",
       "│           ┆ -7274-49 ┆          ┆            ┆   ┆          ┆          ┆ 9         ┆ 00:00:00   │\n",
       "│           ┆ ed-836e- ┆          ┆            ┆   ┆          ┆          ┆ 00:00:00  ┆            │\n",
       "│           ┆ 8e6bd618 ┆          ┆            ┆   ┆          ┆          ┆           ┆            │\n",
       "│           ┆ …        ┆          ┆            ┆   ┆          ┆          ┆           ┆            │\n",
       "│ 4         ┆ fe5a924d ┆ 11000    ┆ 売掛金     ┆ … ┆ 20230017 ┆ 20230005 ┆ 2023-11-1 ┆ 2023-11-24 │\n",
       "│           ┆ -8bb0-4f ┆          ┆            ┆   ┆          ┆          ┆ 9         ┆ 00:00:00   │\n",
       "│           ┆ 86-a43c- ┆          ┆            ┆   ┆          ┆          ┆ 00:00:00  ┆            │\n",
       "│           ┆ f9d403e2 ┆          ┆            ┆   ┆          ┆          ┆           ┆            │\n",
       "│           ┆ …        ┆          ┆            ┆   ┆          ┆          ┆           ┆            │\n",
       "│ 5         ┆ fe5a924d ┆ 61000    ┆ 売上       ┆ … ┆ 20230017 ┆ 20230005 ┆ 2023-11-1 ┆ 2023-11-24 │\n",
       "│           ┆ -8bb0-4f ┆          ┆            ┆   ┆          ┆          ┆ 9         ┆ 00:00:00   │\n",
       "│           ┆ 86-a43c- ┆          ┆            ┆   ┆          ┆          ┆ 00:00:00  ┆            │\n",
       "│           ┆ f9d403e2 ┆          ┆            ┆   ┆          ┆          ┆           ┆            │\n",
       "│           ┆ …        ┆          ┆            ┆   ┆          ┆          ┆           ┆            │\n",
       "│ 6         ┆ 2e6b2d85 ┆ 11000    ┆ 売掛金     ┆ … ┆ 20230009 ┆ 20230003 ┆ 2023-05-1 ┆ 2023-05-22 │\n",
       "│           ┆ -189b-42 ┆          ┆            ┆   ┆          ┆          ┆ 9         ┆ 00:00:00   │\n",
       "│           ┆ a9-9167- ┆          ┆            ┆   ┆          ┆          ┆ 00:00:00  ┆            │\n",
       "│           ┆ d213406e ┆          ┆            ┆   ┆          ┆          ┆           ┆            │\n",
       "│           ┆ …        ┆          ┆            ┆   ┆          ┆          ┆           ┆            │\n",
       "└───────────┴──────────┴──────────┴────────────┴───┴──────────┴──────────┴───────────┴────────────┘"
      ]
     },
     "execution_count": 165,
     "metadata": {},
     "output_type": "execute_result"
    }
   ],
   "source": [
    "gl_data = pl.DataFrame(gl_data)\n",
    "gl_data.head()"
   ]
  },
  {
   "cell_type": "markdown",
   "metadata": {},
   "source": [
    "# Save the created data as csv"
   ]
  },
  {
   "cell_type": "code",
   "execution_count": 168,
   "metadata": {},
   "outputs": [
    {
     "data": {
      "text/plain": [
       "<xlsxwriter.workbook.Workbook at 0x22c223a3730>"
      ]
     },
     "execution_count": 168,
     "metadata": {},
     "output_type": "execute_result"
    }
   ],
   "source": [
    "gl_data.write_excel('GL_init_data.xlsx', worksheet='GL_data')"
   ]
  },
  {
   "cell_type": "code",
   "execution_count": null,
   "metadata": {},
   "outputs": [],
   "source": []
  }
 ],
 "metadata": {
  "kernelspec": {
   "display_name": "Python 3",
   "language": "python",
   "name": "python3"
  },
  "language_info": {
   "codemirror_mode": {
    "name": "ipython",
    "version": 3
   },
   "file_extension": ".py",
   "mimetype": "text/x-python",
   "name": "python",
   "nbconvert_exporter": "python",
   "pygments_lexer": "ipython3",
   "version": "3.8.5"
  }
 },
 "nbformat": 4,
 "nbformat_minor": 4
}
